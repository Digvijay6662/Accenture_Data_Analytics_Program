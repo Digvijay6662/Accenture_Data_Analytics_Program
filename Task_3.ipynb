{
 "cells": [
  {
   "cell_type": "code",
   "execution_count": 1,
   "id": "bf6b7390",
   "metadata": {},
   "outputs": [],
   "source": [
    "import pandas as pd\n",
    "import numpy as np\n",
    "import matplotlib.pyplot as plt\n",
    "%matplotlib inline\n",
    "import seaborn as sns"
   ]
  },
  {
   "cell_type": "code",
   "execution_count": 2,
   "id": "678c5479",
   "metadata": {
    "scrolled": true
   },
   "outputs": [],
   "source": [
    "df =  pd.read_csv('Cleaned_Dataset.csv')"
   ]
  },
  {
   "cell_type": "code",
   "execution_count": 3,
   "id": "bc1b7287",
   "metadata": {},
   "outputs": [
    {
     "name": "stdout",
     "output_type": "stream",
     "text": [
      "<class 'pandas.core.frame.DataFrame'>\n",
      "RangeIndex: 22534 entries, 0 to 22533\n",
      "Data columns (total 7 columns):\n",
      " #   Column         Non-Null Count  Dtype \n",
      "---  ------         --------------  ----- \n",
      " 0   Content ID     22534 non-null  object\n",
      " 1   Reaction Type  22534 non-null  object\n",
      " 2   Datetime       22534 non-null  object\n",
      " 3   Content Type   22534 non-null  object\n",
      " 4   Category       22534 non-null  object\n",
      " 5   Sentiment      22534 non-null  object\n",
      " 6   Score          22534 non-null  int64 \n",
      "dtypes: int64(1), object(6)\n",
      "memory usage: 1.2+ MB\n"
     ]
    }
   ],
   "source": [
    "df.info()"
   ]
  },
  {
   "cell_type": "code",
   "execution_count": 4,
   "id": "eabd79ff",
   "metadata": {},
   "outputs": [
    {
     "data": {
      "text/html": [
       "<div>\n",
       "<style scoped>\n",
       "    .dataframe tbody tr th:only-of-type {\n",
       "        vertical-align: middle;\n",
       "    }\n",
       "\n",
       "    .dataframe tbody tr th {\n",
       "        vertical-align: top;\n",
       "    }\n",
       "\n",
       "    .dataframe thead th {\n",
       "        text-align: right;\n",
       "    }\n",
       "</style>\n",
       "<table border=\"1\" class=\"dataframe\">\n",
       "  <thead>\n",
       "    <tr style=\"text-align: right;\">\n",
       "      <th></th>\n",
       "      <th>Content ID</th>\n",
       "      <th>Reaction Type</th>\n",
       "      <th>Datetime</th>\n",
       "      <th>Content Type</th>\n",
       "      <th>Category</th>\n",
       "      <th>Sentiment</th>\n",
       "      <th>Score</th>\n",
       "    </tr>\n",
       "  </thead>\n",
       "  <tbody>\n",
       "    <tr>\n",
       "      <th>0</th>\n",
       "      <td>97522e57-d9ab-4bd6-97bf-c24d952602d2</td>\n",
       "      <td>disgust</td>\n",
       "      <td>07-11-2020 09:43</td>\n",
       "      <td>photo</td>\n",
       "      <td>Studying</td>\n",
       "      <td>negative</td>\n",
       "      <td>0</td>\n",
       "    </tr>\n",
       "    <tr>\n",
       "      <th>1</th>\n",
       "      <td>97522e57-d9ab-4bd6-97bf-c24d952602d2</td>\n",
       "      <td>dislike</td>\n",
       "      <td>17-06-2021 12:22</td>\n",
       "      <td>photo</td>\n",
       "      <td>Studying</td>\n",
       "      <td>negative</td>\n",
       "      <td>10</td>\n",
       "    </tr>\n",
       "    <tr>\n",
       "      <th>2</th>\n",
       "      <td>97522e57-d9ab-4bd6-97bf-c24d952602d2</td>\n",
       "      <td>scared</td>\n",
       "      <td>18-04-2021 05:13</td>\n",
       "      <td>photo</td>\n",
       "      <td>Studying</td>\n",
       "      <td>negative</td>\n",
       "      <td>15</td>\n",
       "    </tr>\n",
       "    <tr>\n",
       "      <th>3</th>\n",
       "      <td>97522e57-d9ab-4bd6-97bf-c24d952602d2</td>\n",
       "      <td>disgust</td>\n",
       "      <td>06-01-2021 19:13</td>\n",
       "      <td>photo</td>\n",
       "      <td>Studying</td>\n",
       "      <td>negative</td>\n",
       "      <td>0</td>\n",
       "    </tr>\n",
       "    <tr>\n",
       "      <th>4</th>\n",
       "      <td>97522e57-d9ab-4bd6-97bf-c24d952602d2</td>\n",
       "      <td>interested</td>\n",
       "      <td>23-08-2020 12:25</td>\n",
       "      <td>photo</td>\n",
       "      <td>Studying</td>\n",
       "      <td>positive</td>\n",
       "      <td>30</td>\n",
       "    </tr>\n",
       "  </tbody>\n",
       "</table>\n",
       "</div>"
      ],
      "text/plain": [
       "                             Content ID Reaction Type          Datetime  \\\n",
       "0  97522e57-d9ab-4bd6-97bf-c24d952602d2       disgust  07-11-2020 09:43   \n",
       "1  97522e57-d9ab-4bd6-97bf-c24d952602d2       dislike  17-06-2021 12:22   \n",
       "2  97522e57-d9ab-4bd6-97bf-c24d952602d2        scared  18-04-2021 05:13   \n",
       "3  97522e57-d9ab-4bd6-97bf-c24d952602d2       disgust  06-01-2021 19:13   \n",
       "4  97522e57-d9ab-4bd6-97bf-c24d952602d2    interested  23-08-2020 12:25   \n",
       "\n",
       "  Content Type  Category Sentiment  Score  \n",
       "0        photo  Studying  negative      0  \n",
       "1        photo  Studying  negative     10  \n",
       "2        photo  Studying  negative     15  \n",
       "3        photo  Studying  negative      0  \n",
       "4        photo  Studying  positive     30  "
      ]
     },
     "execution_count": 4,
     "metadata": {},
     "output_type": "execute_result"
    }
   ],
   "source": [
    "df.head()"
   ]
  },
  {
   "cell_type": "code",
   "execution_count": 5,
   "id": "1fae37bd",
   "metadata": {},
   "outputs": [],
   "source": [
    "df['Datetime'] = pd.to_datetime(df['Datetime'], format=\"%d-%m-%Y %H:%M\")"
   ]
  },
  {
   "cell_type": "code",
   "execution_count": 6,
   "id": "68bf5070",
   "metadata": {},
   "outputs": [
    {
     "name": "stdout",
     "output_type": "stream",
     "text": [
      "<class 'pandas.core.frame.DataFrame'>\n",
      "RangeIndex: 22534 entries, 0 to 22533\n",
      "Data columns (total 7 columns):\n",
      " #   Column         Non-Null Count  Dtype         \n",
      "---  ------         --------------  -----         \n",
      " 0   Content ID     22534 non-null  object        \n",
      " 1   Reaction Type  22534 non-null  object        \n",
      " 2   Datetime       22534 non-null  datetime64[ns]\n",
      " 3   Content Type   22534 non-null  object        \n",
      " 4   Category       22534 non-null  object        \n",
      " 5   Sentiment      22534 non-null  object        \n",
      " 6   Score          22534 non-null  int64         \n",
      "dtypes: datetime64[ns](1), int64(1), object(5)\n",
      "memory usage: 1.2+ MB\n"
     ]
    }
   ],
   "source": [
    "df.info()"
   ]
  },
  {
   "cell_type": "code",
   "execution_count": 7,
   "id": "98563ad5",
   "metadata": {},
   "outputs": [
    {
     "data": {
      "text/html": [
       "<div>\n",
       "<style scoped>\n",
       "    .dataframe tbody tr th:only-of-type {\n",
       "        vertical-align: middle;\n",
       "    }\n",
       "\n",
       "    .dataframe tbody tr th {\n",
       "        vertical-align: top;\n",
       "    }\n",
       "\n",
       "    .dataframe thead th {\n",
       "        text-align: right;\n",
       "    }\n",
       "</style>\n",
       "<table border=\"1\" class=\"dataframe\">\n",
       "  <thead>\n",
       "    <tr style=\"text-align: right;\">\n",
       "      <th></th>\n",
       "      <th>Content ID</th>\n",
       "      <th>Reaction Type</th>\n",
       "      <th>Datetime</th>\n",
       "      <th>Content Type</th>\n",
       "      <th>Category</th>\n",
       "      <th>Sentiment</th>\n",
       "      <th>Score</th>\n",
       "    </tr>\n",
       "  </thead>\n",
       "  <tbody>\n",
       "    <tr>\n",
       "      <th>0</th>\n",
       "      <td>97522e57-d9ab-4bd6-97bf-c24d952602d2</td>\n",
       "      <td>disgust</td>\n",
       "      <td>2020-11-07 09:43:00</td>\n",
       "      <td>photo</td>\n",
       "      <td>Studying</td>\n",
       "      <td>negative</td>\n",
       "      <td>0</td>\n",
       "    </tr>\n",
       "    <tr>\n",
       "      <th>1</th>\n",
       "      <td>97522e57-d9ab-4bd6-97bf-c24d952602d2</td>\n",
       "      <td>dislike</td>\n",
       "      <td>2021-06-17 12:22:00</td>\n",
       "      <td>photo</td>\n",
       "      <td>Studying</td>\n",
       "      <td>negative</td>\n",
       "      <td>10</td>\n",
       "    </tr>\n",
       "    <tr>\n",
       "      <th>2</th>\n",
       "      <td>97522e57-d9ab-4bd6-97bf-c24d952602d2</td>\n",
       "      <td>scared</td>\n",
       "      <td>2021-04-18 05:13:00</td>\n",
       "      <td>photo</td>\n",
       "      <td>Studying</td>\n",
       "      <td>negative</td>\n",
       "      <td>15</td>\n",
       "    </tr>\n",
       "    <tr>\n",
       "      <th>3</th>\n",
       "      <td>97522e57-d9ab-4bd6-97bf-c24d952602d2</td>\n",
       "      <td>disgust</td>\n",
       "      <td>2021-01-06 19:13:00</td>\n",
       "      <td>photo</td>\n",
       "      <td>Studying</td>\n",
       "      <td>negative</td>\n",
       "      <td>0</td>\n",
       "    </tr>\n",
       "    <tr>\n",
       "      <th>4</th>\n",
       "      <td>97522e57-d9ab-4bd6-97bf-c24d952602d2</td>\n",
       "      <td>interested</td>\n",
       "      <td>2020-08-23 12:25:00</td>\n",
       "      <td>photo</td>\n",
       "      <td>Studying</td>\n",
       "      <td>positive</td>\n",
       "      <td>30</td>\n",
       "    </tr>\n",
       "  </tbody>\n",
       "</table>\n",
       "</div>"
      ],
      "text/plain": [
       "                             Content ID Reaction Type            Datetime  \\\n",
       "0  97522e57-d9ab-4bd6-97bf-c24d952602d2       disgust 2020-11-07 09:43:00   \n",
       "1  97522e57-d9ab-4bd6-97bf-c24d952602d2       dislike 2021-06-17 12:22:00   \n",
       "2  97522e57-d9ab-4bd6-97bf-c24d952602d2        scared 2021-04-18 05:13:00   \n",
       "3  97522e57-d9ab-4bd6-97bf-c24d952602d2       disgust 2021-01-06 19:13:00   \n",
       "4  97522e57-d9ab-4bd6-97bf-c24d952602d2    interested 2020-08-23 12:25:00   \n",
       "\n",
       "  Content Type  Category Sentiment  Score  \n",
       "0        photo  Studying  negative      0  \n",
       "1        photo  Studying  negative     10  \n",
       "2        photo  Studying  negative     15  \n",
       "3        photo  Studying  negative      0  \n",
       "4        photo  Studying  positive     30  "
      ]
     },
     "execution_count": 7,
     "metadata": {},
     "output_type": "execute_result"
    }
   ],
   "source": [
    "df.head()"
   ]
  },
  {
   "cell_type": "code",
   "execution_count": 8,
   "id": "5d132475",
   "metadata": {},
   "outputs": [],
   "source": [
    "df['Month'] = df['Datetime'].dt.month_name()"
   ]
  },
  {
   "cell_type": "code",
   "execution_count": 9,
   "id": "60fa804d",
   "metadata": {},
   "outputs": [
    {
     "data": {
      "text/html": [
       "<div>\n",
       "<style scoped>\n",
       "    .dataframe tbody tr th:only-of-type {\n",
       "        vertical-align: middle;\n",
       "    }\n",
       "\n",
       "    .dataframe tbody tr th {\n",
       "        vertical-align: top;\n",
       "    }\n",
       "\n",
       "    .dataframe thead th {\n",
       "        text-align: right;\n",
       "    }\n",
       "</style>\n",
       "<table border=\"1\" class=\"dataframe\">\n",
       "  <thead>\n",
       "    <tr style=\"text-align: right;\">\n",
       "      <th></th>\n",
       "      <th>Content ID</th>\n",
       "      <th>Reaction Type</th>\n",
       "      <th>Datetime</th>\n",
       "      <th>Content Type</th>\n",
       "      <th>Category</th>\n",
       "      <th>Sentiment</th>\n",
       "      <th>Score</th>\n",
       "      <th>Month</th>\n",
       "    </tr>\n",
       "  </thead>\n",
       "  <tbody>\n",
       "    <tr>\n",
       "      <th>0</th>\n",
       "      <td>97522e57-d9ab-4bd6-97bf-c24d952602d2</td>\n",
       "      <td>disgust</td>\n",
       "      <td>2020-11-07 09:43:00</td>\n",
       "      <td>photo</td>\n",
       "      <td>Studying</td>\n",
       "      <td>negative</td>\n",
       "      <td>0</td>\n",
       "      <td>November</td>\n",
       "    </tr>\n",
       "    <tr>\n",
       "      <th>1</th>\n",
       "      <td>97522e57-d9ab-4bd6-97bf-c24d952602d2</td>\n",
       "      <td>dislike</td>\n",
       "      <td>2021-06-17 12:22:00</td>\n",
       "      <td>photo</td>\n",
       "      <td>Studying</td>\n",
       "      <td>negative</td>\n",
       "      <td>10</td>\n",
       "      <td>June</td>\n",
       "    </tr>\n",
       "    <tr>\n",
       "      <th>2</th>\n",
       "      <td>97522e57-d9ab-4bd6-97bf-c24d952602d2</td>\n",
       "      <td>scared</td>\n",
       "      <td>2021-04-18 05:13:00</td>\n",
       "      <td>photo</td>\n",
       "      <td>Studying</td>\n",
       "      <td>negative</td>\n",
       "      <td>15</td>\n",
       "      <td>April</td>\n",
       "    </tr>\n",
       "    <tr>\n",
       "      <th>3</th>\n",
       "      <td>97522e57-d9ab-4bd6-97bf-c24d952602d2</td>\n",
       "      <td>disgust</td>\n",
       "      <td>2021-01-06 19:13:00</td>\n",
       "      <td>photo</td>\n",
       "      <td>Studying</td>\n",
       "      <td>negative</td>\n",
       "      <td>0</td>\n",
       "      <td>January</td>\n",
       "    </tr>\n",
       "    <tr>\n",
       "      <th>4</th>\n",
       "      <td>97522e57-d9ab-4bd6-97bf-c24d952602d2</td>\n",
       "      <td>interested</td>\n",
       "      <td>2020-08-23 12:25:00</td>\n",
       "      <td>photo</td>\n",
       "      <td>Studying</td>\n",
       "      <td>positive</td>\n",
       "      <td>30</td>\n",
       "      <td>August</td>\n",
       "    </tr>\n",
       "  </tbody>\n",
       "</table>\n",
       "</div>"
      ],
      "text/plain": [
       "                             Content ID Reaction Type            Datetime  \\\n",
       "0  97522e57-d9ab-4bd6-97bf-c24d952602d2       disgust 2020-11-07 09:43:00   \n",
       "1  97522e57-d9ab-4bd6-97bf-c24d952602d2       dislike 2021-06-17 12:22:00   \n",
       "2  97522e57-d9ab-4bd6-97bf-c24d952602d2        scared 2021-04-18 05:13:00   \n",
       "3  97522e57-d9ab-4bd6-97bf-c24d952602d2       disgust 2021-01-06 19:13:00   \n",
       "4  97522e57-d9ab-4bd6-97bf-c24d952602d2    interested 2020-08-23 12:25:00   \n",
       "\n",
       "  Content Type  Category Sentiment  Score     Month  \n",
       "0        photo  Studying  negative      0  November  \n",
       "1        photo  Studying  negative     10      June  \n",
       "2        photo  Studying  negative     15     April  \n",
       "3        photo  Studying  negative      0   January  \n",
       "4        photo  Studying  positive     30    August  "
      ]
     },
     "execution_count": 9,
     "metadata": {},
     "output_type": "execute_result"
    }
   ],
   "source": [
    "df.head()"
   ]
  },
  {
   "cell_type": "code",
   "execution_count": 10,
   "id": "235c6761",
   "metadata": {},
   "outputs": [
    {
     "data": {
      "text/html": [
       "<div>\n",
       "<style scoped>\n",
       "    .dataframe tbody tr th:only-of-type {\n",
       "        vertical-align: middle;\n",
       "    }\n",
       "\n",
       "    .dataframe tbody tr th {\n",
       "        vertical-align: top;\n",
       "    }\n",
       "\n",
       "    .dataframe thead th {\n",
       "        text-align: right;\n",
       "    }\n",
       "</style>\n",
       "<table border=\"1\" class=\"dataframe\">\n",
       "  <thead>\n",
       "    <tr style=\"text-align: right;\">\n",
       "      <th></th>\n",
       "      <th>Content ID</th>\n",
       "      <th>Reaction Type</th>\n",
       "      <th>Datetime</th>\n",
       "      <th>Content Type</th>\n",
       "      <th>Category</th>\n",
       "      <th>Sentiment</th>\n",
       "      <th>Score</th>\n",
       "      <th>Month</th>\n",
       "    </tr>\n",
       "  </thead>\n",
       "  <tbody>\n",
       "    <tr>\n",
       "      <th>17821</th>\n",
       "      <td>c3d1c36d-2ad9-45ce-be49-51c103351e62</td>\n",
       "      <td>disgust</td>\n",
       "      <td>2021-06-18 07:41:00</td>\n",
       "      <td>video</td>\n",
       "      <td>travel</td>\n",
       "      <td>negative</td>\n",
       "      <td>0</td>\n",
       "      <td>June</td>\n",
       "    </tr>\n",
       "    <tr>\n",
       "      <th>6086</th>\n",
       "      <td>70b0202f-cd58-42fe-acd9-7b2f8cf9e7c6</td>\n",
       "      <td>like</td>\n",
       "      <td>2021-06-18 07:44:00</td>\n",
       "      <td>video</td>\n",
       "      <td>cooking</td>\n",
       "      <td>positive</td>\n",
       "      <td>50</td>\n",
       "      <td>June</td>\n",
       "    </tr>\n",
       "    <tr>\n",
       "      <th>15155</th>\n",
       "      <td>18cb1ce7-fb66-4a56-8042-e38c9593ade1</td>\n",
       "      <td>peeking</td>\n",
       "      <td>2021-06-18 07:52:00</td>\n",
       "      <td>photo</td>\n",
       "      <td>animals</td>\n",
       "      <td>neutral</td>\n",
       "      <td>35</td>\n",
       "      <td>June</td>\n",
       "    </tr>\n",
       "    <tr>\n",
       "      <th>21687</th>\n",
       "      <td>16f8b629-5173-420f-9c8b-577313e9e128</td>\n",
       "      <td>worried</td>\n",
       "      <td>2021-06-18 08:01:00</td>\n",
       "      <td>video</td>\n",
       "      <td>healthy eating</td>\n",
       "      <td>negative</td>\n",
       "      <td>12</td>\n",
       "      <td>June</td>\n",
       "    </tr>\n",
       "    <tr>\n",
       "      <th>7687</th>\n",
       "      <td>178f85a7-c2d1-4127-94d2-30adf96ae7fd</td>\n",
       "      <td>dislike</td>\n",
       "      <td>2021-06-18 08:30:00</td>\n",
       "      <td>photo</td>\n",
       "      <td>science</td>\n",
       "      <td>negative</td>\n",
       "      <td>10</td>\n",
       "      <td>June</td>\n",
       "    </tr>\n",
       "  </tbody>\n",
       "</table>\n",
       "</div>"
      ],
      "text/plain": [
       "                                 Content ID Reaction Type            Datetime  \\\n",
       "17821  c3d1c36d-2ad9-45ce-be49-51c103351e62       disgust 2021-06-18 07:41:00   \n",
       "6086   70b0202f-cd58-42fe-acd9-7b2f8cf9e7c6          like 2021-06-18 07:44:00   \n",
       "15155  18cb1ce7-fb66-4a56-8042-e38c9593ade1       peeking 2021-06-18 07:52:00   \n",
       "21687  16f8b629-5173-420f-9c8b-577313e9e128       worried 2021-06-18 08:01:00   \n",
       "7687   178f85a7-c2d1-4127-94d2-30adf96ae7fd       dislike 2021-06-18 08:30:00   \n",
       "\n",
       "      Content Type        Category Sentiment  Score Month  \n",
       "17821        video          travel  negative      0  June  \n",
       "6086         video         cooking  positive     50  June  \n",
       "15155        photo         animals   neutral     35  June  \n",
       "21687        video  healthy eating  negative     12  June  \n",
       "7687         photo         science  negative     10  June  "
      ]
     },
     "execution_count": 10,
     "metadata": {},
     "output_type": "execute_result"
    }
   ],
   "source": [
    "df.sort_values(by=['Datetime']).tail()"
   ]
  },
  {
   "cell_type": "code",
   "execution_count": 11,
   "id": "5a10243c",
   "metadata": {},
   "outputs": [
    {
     "data": {
      "text/plain": [
       "array(['Studying', 'healthy eating', 'technology', 'food', 'cooking',\n",
       "       'dogs', 'soccer', 'public speaking', 'science', 'tennis', 'travel',\n",
       "       'fitness', 'education', 'studying', 'veganism', 'Animals',\n",
       "       'animals', 'culture', 'Fitness', 'Veganism', 'Travel', 'Education',\n",
       "       'Technology', 'Soccer', 'Culture', 'Food', 'Healthy Eating',\n",
       "       'Science', 'Public Speaking'], dtype=object)"
      ]
     },
     "execution_count": 11,
     "metadata": {},
     "output_type": "execute_result"
    }
   ],
   "source": [
    "df['Category'].unique()"
   ]
  },
  {
   "cell_type": "code",
   "execution_count": 12,
   "id": "3d15d10c",
   "metadata": {},
   "outputs": [
    {
     "data": {
      "text/plain": [
       "array(['photo', 'video', 'GIF', 'audio'], dtype=object)"
      ]
     },
     "execution_count": 12,
     "metadata": {},
     "output_type": "execute_result"
    }
   ],
   "source": [
    "df['Content Type'].unique()"
   ]
  },
  {
   "cell_type": "code",
   "execution_count": 13,
   "id": "ea07def8",
   "metadata": {},
   "outputs": [
    {
     "data": {
      "text/plain": [
       "array(['disgust', 'dislike', 'scared', 'interested', 'peeking', 'cherish',\n",
       "       'hate', 'indifferent', 'super love', 'worried', 'like', 'heart',\n",
       "       'want', 'intrigued', 'love', 'adore'], dtype=object)"
      ]
     },
     "execution_count": 13,
     "metadata": {},
     "output_type": "execute_result"
    }
   ],
   "source": [
    "df['Reaction Type'].unique()"
   ]
  },
  {
   "cell_type": "code",
   "execution_count": 14,
   "id": "aa116e3e",
   "metadata": {},
   "outputs": [],
   "source": [
    "df['Category'] = df['Category'].str.lower()"
   ]
  },
  {
   "cell_type": "code",
   "execution_count": 15,
   "id": "b45d7df3",
   "metadata": {},
   "outputs": [
    {
     "data": {
      "text/plain": [
       "16"
      ]
     },
     "execution_count": 15,
     "metadata": {},
     "output_type": "execute_result"
    }
   ],
   "source": [
    "len(df['Category'].unique())"
   ]
  },
  {
   "cell_type": "code",
   "execution_count": 16,
   "id": "279145a7",
   "metadata": {},
   "outputs": [],
   "source": [
    "df_top5 = df.groupby('Category').agg({\"Score\" : \"sum\"}).reset_index().sort_values(by='Score', ascending=False).head()"
   ]
  },
  {
   "cell_type": "code",
   "execution_count": 17,
   "id": "7f1feca6",
   "metadata": {},
   "outputs": [
    {
     "data": {
      "text/html": [
       "<div>\n",
       "<style scoped>\n",
       "    .dataframe tbody tr th:only-of-type {\n",
       "        vertical-align: middle;\n",
       "    }\n",
       "\n",
       "    .dataframe tbody tr th {\n",
       "        vertical-align: top;\n",
       "    }\n",
       "\n",
       "    .dataframe thead th {\n",
       "        text-align: right;\n",
       "    }\n",
       "</style>\n",
       "<table border=\"1\" class=\"dataframe\">\n",
       "  <thead>\n",
       "    <tr style=\"text-align: right;\">\n",
       "      <th></th>\n",
       "      <th>Category</th>\n",
       "      <th>Score</th>\n",
       "    </tr>\n",
       "  </thead>\n",
       "  <tbody>\n",
       "    <tr>\n",
       "      <th>0</th>\n",
       "      <td>animals</td>\n",
       "      <td>68624</td>\n",
       "    </tr>\n",
       "    <tr>\n",
       "      <th>9</th>\n",
       "      <td>science</td>\n",
       "      <td>65405</td>\n",
       "    </tr>\n",
       "    <tr>\n",
       "      <th>7</th>\n",
       "      <td>healthy eating</td>\n",
       "      <td>63138</td>\n",
       "    </tr>\n",
       "    <tr>\n",
       "      <th>12</th>\n",
       "      <td>technology</td>\n",
       "      <td>63035</td>\n",
       "    </tr>\n",
       "    <tr>\n",
       "      <th>6</th>\n",
       "      <td>food</td>\n",
       "      <td>61598</td>\n",
       "    </tr>\n",
       "  </tbody>\n",
       "</table>\n",
       "</div>"
      ],
      "text/plain": [
       "          Category  Score\n",
       "0          animals  68624\n",
       "9          science  65405\n",
       "7   healthy eating  63138\n",
       "12      technology  63035\n",
       "6             food  61598"
      ]
     },
     "execution_count": 17,
     "metadata": {},
     "output_type": "execute_result"
    }
   ],
   "source": [
    "df_top5"
   ]
  },
  {
   "cell_type": "code",
   "execution_count": 18,
   "id": "7799995c",
   "metadata": {},
   "outputs": [
    {
     "data": {
      "image/png": "[encoded data removed]",
      "text/plain": [
       "<Figure size 864x576 with 1 Axes>"
      ]
     },
     "metadata": {
      "needs_background": "light"
     },
     "output_type": "display_data"
    }
   ],
   "source": [
    "fig, ax = plt.subplots(figsize=(12,8))\n",
    "\n",
    "sns.barplot(x=df_top5[\"Score\"], y=df_top5['Category'], ax=ax)\n",
    "for label in ax.containers:\n",
    "    ax.bar_label(label)\n",
    "plt.savefig('top_5_Category.png', bbox_inches='tight')\n",
    "plt.show()"
   ]
  },
  {
   "cell_type": "code",
   "execution_count": 19,
   "id": "559683ca",
   "metadata": {},
   "outputs": [
    {
     "data": {
      "image/png": "[encoded data removed]",
      "text/plain": [
       "<Figure size 720x432 with 1 Axes>"
      ]
     },
     "metadata": {
      "needs_background": "light"
     },
     "output_type": "display_data"
    }
   ],
   "source": [
    "fig, ax = plt.subplots(figsize=(10,6))\n",
    "\n",
    "sns.countplot(x=df[\"Category\"], order=df['Category'].value_counts().index, ax=ax)\n",
    "for label in ax.containers:\n",
    "    ax.bar_label(label)\n",
    "plt.xticks(rotation=90)\n",
    "plt.savefig('Count_Catgory.png', bbox_inches='tight')\n",
    "plt.show()"
   ]
  },
  {
   "cell_type": "code",
   "execution_count": 20,
   "id": "9b3e4a80",
   "metadata": {},
   "outputs": [
    {
     "data": {
      "text/plain": [
       "array(['animals', 'science', 'healthy eating', 'technology', 'food'],\n",
       "      dtype=object)"
      ]
     },
     "execution_count": 20,
     "metadata": {},
     "output_type": "execute_result"
    }
   ],
   "source": [
    "df_top5['Category'].values"
   ]
  },
  {
   "cell_type": "code",
   "execution_count": 21,
   "id": "2fd25777",
   "metadata": {},
   "outputs": [],
   "source": [
    "top_5 = ['animals', 'science', 'healthy eating', 'technology', 'food']\n",
    "#top_5 = ['animals']"
   ]
  },
  {
   "cell_type": "code",
   "execution_count": 22,
   "id": "eaa053eb",
   "metadata": {},
   "outputs": [],
   "source": [
    "df_reaction_most_popular = df[df['Category'].isin(top_5)] "
   ]
  },
  {
   "cell_type": "code",
   "execution_count": 23,
   "id": "0c26eb6b",
   "metadata": {},
   "outputs": [
    {
     "data": {
      "text/html": [
       "<div>\n",
       "<style scoped>\n",
       "    .dataframe tbody tr th:only-of-type {\n",
       "        vertical-align: middle;\n",
       "    }\n",
       "\n",
       "    .dataframe tbody tr th {\n",
       "        vertical-align: top;\n",
       "    }\n",
       "\n",
       "    .dataframe thead th {\n",
       "        text-align: right;\n",
       "    }\n",
       "</style>\n",
       "<table border=\"1\" class=\"dataframe\">\n",
       "  <thead>\n",
       "    <tr style=\"text-align: right;\">\n",
       "      <th></th>\n",
       "      <th>Content ID</th>\n",
       "      <th>Reaction Type</th>\n",
       "      <th>Datetime</th>\n",
       "      <th>Content Type</th>\n",
       "      <th>Category</th>\n",
       "      <th>Sentiment</th>\n",
       "      <th>Score</th>\n",
       "      <th>Month</th>\n",
       "    </tr>\n",
       "  </thead>\n",
       "  <tbody>\n",
       "    <tr>\n",
       "      <th>41</th>\n",
       "      <td>9f737e0a-3cdd-4d29-9d24-753f4e3be810</td>\n",
       "      <td>dislike</td>\n",
       "      <td>2020-06-25 17:01:00</td>\n",
       "      <td>photo</td>\n",
       "      <td>healthy eating</td>\n",
       "      <td>negative</td>\n",
       "      <td>10</td>\n",
       "      <td>June</td>\n",
       "    </tr>\n",
       "    <tr>\n",
       "      <th>42</th>\n",
       "      <td>9f737e0a-3cdd-4d29-9d24-753f4e3be810</td>\n",
       "      <td>intrigued</td>\n",
       "      <td>2020-09-13 00:11:00</td>\n",
       "      <td>photo</td>\n",
       "      <td>healthy eating</td>\n",
       "      <td>positive</td>\n",
       "      <td>45</td>\n",
       "      <td>September</td>\n",
       "    </tr>\n",
       "    <tr>\n",
       "      <th>43</th>\n",
       "      <td>9f737e0a-3cdd-4d29-9d24-753f4e3be810</td>\n",
       "      <td>peeking</td>\n",
       "      <td>2020-08-20 18:17:00</td>\n",
       "      <td>photo</td>\n",
       "      <td>healthy eating</td>\n",
       "      <td>neutral</td>\n",
       "      <td>35</td>\n",
       "      <td>August</td>\n",
       "    </tr>\n",
       "    <tr>\n",
       "      <th>44</th>\n",
       "      <td>9f737e0a-3cdd-4d29-9d24-753f4e3be810</td>\n",
       "      <td>scared</td>\n",
       "      <td>2021-02-11 04:53:00</td>\n",
       "      <td>photo</td>\n",
       "      <td>healthy eating</td>\n",
       "      <td>negative</td>\n",
       "      <td>15</td>\n",
       "      <td>February</td>\n",
       "    </tr>\n",
       "    <tr>\n",
       "      <th>45</th>\n",
       "      <td>9f737e0a-3cdd-4d29-9d24-753f4e3be810</td>\n",
       "      <td>hate</td>\n",
       "      <td>2021-03-08 10:40:00</td>\n",
       "      <td>photo</td>\n",
       "      <td>healthy eating</td>\n",
       "      <td>negative</td>\n",
       "      <td>5</td>\n",
       "      <td>March</td>\n",
       "    </tr>\n",
       "    <tr>\n",
       "      <th>...</th>\n",
       "      <td>...</td>\n",
       "      <td>...</td>\n",
       "      <td>...</td>\n",
       "      <td>...</td>\n",
       "      <td>...</td>\n",
       "      <td>...</td>\n",
       "      <td>...</td>\n",
       "      <td>...</td>\n",
       "    </tr>\n",
       "    <tr>\n",
       "      <th>22529</th>\n",
       "      <td>75d6b589-7fae-4a6d-b0d0-752845150e56</td>\n",
       "      <td>worried</td>\n",
       "      <td>2020-10-31 04:50:00</td>\n",
       "      <td>audio</td>\n",
       "      <td>technology</td>\n",
       "      <td>negative</td>\n",
       "      <td>12</td>\n",
       "      <td>October</td>\n",
       "    </tr>\n",
       "    <tr>\n",
       "      <th>22530</th>\n",
       "      <td>75d6b589-7fae-4a6d-b0d0-752845150e56</td>\n",
       "      <td>dislike</td>\n",
       "      <td>2020-06-27 09:46:00</td>\n",
       "      <td>audio</td>\n",
       "      <td>technology</td>\n",
       "      <td>negative</td>\n",
       "      <td>10</td>\n",
       "      <td>June</td>\n",
       "    </tr>\n",
       "    <tr>\n",
       "      <th>22531</th>\n",
       "      <td>75d6b589-7fae-4a6d-b0d0-752845150e56</td>\n",
       "      <td>intrigued</td>\n",
       "      <td>2021-02-16 17:17:00</td>\n",
       "      <td>audio</td>\n",
       "      <td>technology</td>\n",
       "      <td>positive</td>\n",
       "      <td>45</td>\n",
       "      <td>February</td>\n",
       "    </tr>\n",
       "    <tr>\n",
       "      <th>22532</th>\n",
       "      <td>75d6b589-7fae-4a6d-b0d0-752845150e56</td>\n",
       "      <td>worried</td>\n",
       "      <td>2020-11-04 20:08:00</td>\n",
       "      <td>audio</td>\n",
       "      <td>technology</td>\n",
       "      <td>negative</td>\n",
       "      <td>12</td>\n",
       "      <td>November</td>\n",
       "    </tr>\n",
       "    <tr>\n",
       "      <th>22533</th>\n",
       "      <td>75d6b589-7fae-4a6d-b0d0-752845150e56</td>\n",
       "      <td>cherish</td>\n",
       "      <td>2021-01-04 04:55:00</td>\n",
       "      <td>audio</td>\n",
       "      <td>technology</td>\n",
       "      <td>positive</td>\n",
       "      <td>70</td>\n",
       "      <td>January</td>\n",
       "    </tr>\n",
       "  </tbody>\n",
       "</table>\n",
       "<p>8069 rows × 8 columns</p>\n",
       "</div>"
      ],
      "text/plain": [
       "                                 Content ID Reaction Type            Datetime  \\\n",
       "41     9f737e0a-3cdd-4d29-9d24-753f4e3be810       dislike 2020-06-25 17:01:00   \n",
       "42     9f737e0a-3cdd-4d29-9d24-753f4e3be810     intrigued 2020-09-13 00:11:00   \n",
       "43     9f737e0a-3cdd-4d29-9d24-753f4e3be810       peeking 2020-08-20 18:17:00   \n",
       "44     9f737e0a-3cdd-4d29-9d24-753f4e3be810        scared 2021-02-11 04:53:00   \n",
       "45     9f737e0a-3cdd-4d29-9d24-753f4e3be810          hate 2021-03-08 10:40:00   \n",
       "...                                     ...           ...                 ...   \n",
       "22529  75d6b589-7fae-4a6d-b0d0-752845150e56       worried 2020-10-31 04:50:00   \n",
       "22530  75d6b589-7fae-4a6d-b0d0-752845150e56       dislike 2020-06-27 09:46:00   \n",
       "22531  75d6b589-7fae-4a6d-b0d0-752845150e56     intrigued 2021-02-16 17:17:00   \n",
       "22532  75d6b589-7fae-4a6d-b0d0-752845150e56       worried 2020-11-04 20:08:00   \n",
       "22533  75d6b589-7fae-4a6d-b0d0-752845150e56       cherish 2021-01-04 04:55:00   \n",
       "\n",
       "      Content Type        Category Sentiment  Score      Month  \n",
       "41           photo  healthy eating  negative     10       June  \n",
       "42           photo  healthy eating  positive     45  September  \n",
       "43           photo  healthy eating   neutral     35     August  \n",
       "44           photo  healthy eating  negative     15   February  \n",
       "45           photo  healthy eating  negative      5      March  \n",
       "...            ...             ...       ...    ...        ...  \n",
       "22529        audio      technology  negative     12    October  \n",
       "22530        audio      technology  negative     10       June  \n",
       "22531        audio      technology  positive     45   February  \n",
       "22532        audio      technology  negative     12   November  \n",
       "22533        audio      technology  positive     70    January  \n",
       "\n",
       "[8069 rows x 8 columns]"
      ]
     },
     "execution_count": 23,
     "metadata": {},
     "output_type": "execute_result"
    }
   ],
   "source": [
    "df_reaction_most_popular"
   ]
  },
  {
   "cell_type": "code",
   "execution_count": 24,
   "id": "f4a44a54",
   "metadata": {},
   "outputs": [
    {
     "data": {
      "image/png": "[encoded data removed]",
      "text/plain": [
       "<Figure size 720x432 with 1 Axes>"
      ]
     },
     "metadata": {
      "needs_background": "light"
     },
     "output_type": "display_data"
    }
   ],
   "source": [
    "fig, ax = plt.subplots(figsize=(10,6))\n",
    "\n",
    "sns.countplot(x=df_reaction_most_popular[\"Reaction Type\"], \n",
    "              order=df_reaction_most_popular['Reaction Type'].value_counts().index, ax=ax)\n",
    "for label in ax.containers:\n",
    "    ax.bar_label(label)\n",
    "plt.xticks(rotation=90)\n",
    "plt.savefig('Count_Reaction_Types.png', bbox_inches='tight')\n",
    "plt.show()"
   ]
  },
  {
   "cell_type": "code",
   "execution_count": 25,
   "id": "8fb7c279",
   "metadata": {},
   "outputs": [
    {
     "data": {
      "image/png": "[encoded data removed]",
      "text/plain": [
       "<Figure size 720x432 with 1 Axes>"
      ]
     },
     "metadata": {
      "needs_background": "light"
     },
     "output_type": "display_data"
    }
   ],
   "source": [
    "fig, ax = plt.subplots(figsize=(10,6))\n",
    "month_counts = df.groupby('Month').count()['Content ID'].sort_values(ascending=False)\n",
    "\n",
    "sns.barplot(x=month_counts.index, y=month_counts)\n",
    "for label in ax.containers:\n",
    "    ax.bar_label(label)\n",
    "plt.xticks(rotation=90)\n",
    "plt.xlabel('Month')\n",
    "plt.ylabel('Number of Posts')\n",
    "plt.title('Posts per Month')\n",
    "plt.savefig('posts_per_month.png', bbox_inches='tight')\n",
    "plt.show()"
   ]
  },
  {
   "cell_type": "code",
   "execution_count": 26,
   "id": "77af9e50",
   "metadata": {},
   "outputs": [
    {
     "data": {
      "text/plain": [
       "positive    12674\n",
       "negative     7037\n",
       "neutral      2823\n",
       "Name: Sentiment, dtype: int64"
      ]
     },
     "execution_count": 26,
     "metadata": {},
     "output_type": "execute_result"
    }
   ],
   "source": [
    "sentiments_counts = df['Sentiment'].value_counts()\n",
    "sentiments_counts"
   ]
  },
  {
   "cell_type": "code",
   "execution_count": 27,
   "id": "99ff1424",
   "metadata": {},
   "outputs": [
    {
     "data": {
      "image/png": "[encoded data removed]",
      "text/plain": [
       "<Figure size 1080x504 with 1 Axes>"
      ]
     },
     "metadata": {},
     "output_type": "display_data"
    }
   ],
   "source": [
    "plt.figure(figsize=(15,7))\n",
    "\n",
    "colors = ['#18C71D','#EF230B','#F5E311']\n",
    "\n",
    "plt.title(\"Sentiment Analysis\")\n",
    "plt.pie(sentiments_counts.values, labels = sentiments_counts.index, explode = (0, 0, 0.20), autopct='%1.1f%%',\n",
    "        shadow=True, colors =colors)\n",
    "plt.savefig('Sentiment_Percentage.png', bbox_inches='tight')\n",
    "plt.show()"
   ]
  },
  {
   "cell_type": "code",
   "execution_count": 28,
   "id": "1339433e",
   "metadata": {},
   "outputs": [],
   "source": [
    "from wordcloud import WordCloud\n",
    "\n",
    "def show_wordcloud(data, clr, title):\n",
    "    wordcloud = WordCloud(background_color=clr, colormap='Set1', \n",
    "                          max_font_size=25, scale=3, random_state=1)\n",
    "\n",
    "    \n",
    "    wordcloud  =wordcloud.generate(str(data))\n",
    "\n",
    "    fig = plt.figure(1, figsize=(10, 10))\n",
    "    plt.axis('off')\n",
    "    plt.title(title)\n",
    "    plt.imshow(wordcloud)\n",
    "    plt.savefig('top_5_Reaction_Type.png', bbox_inches='tight')\n",
    "    plt.show()\n",
    "    "
   ]
  },
  {
   "cell_type": "code",
   "execution_count": 29,
   "id": "d632c65f",
   "metadata": {},
   "outputs": [
    {
     "data": {
      "image/png": "[encoded data removed]",
      "text/plain": [
       "<Figure size 720x720 with 1 Axes>"
      ]
     },
     "metadata": {
      "needs_background": "light"
     },
     "output_type": "display_data"
    }
   ],
   "source": [
    "show_wordcloud(df_reaction_most_popular['Reaction Type'], '#44DAFA', 'Reaction Type of Top 5 Categories')"
   ]
  },
  {
   "cell_type": "code",
   "execution_count": null,
   "id": "943eb545",
   "metadata": {},
   "outputs": [],
   "source": []
  }
 ],
 "metadata": {
  "kernelspec": {
   "display_name": "Python 3 (ipykernel)",
   "language": "python",
   "name": "python3"
  },
  "language_info": {
   "codemirror_mode": {
    "name": "ipython",
    "version": 3
   },
   "file_extension": ".py",
   "mimetype": "text/x-python",
   "name": "python",
   "nbconvert_exporter": "python",
   "pygments_lexer": "ipython3",
   "version": "3.9.12"
  }
 },
 "nbformat": 4,
 "nbformat_minor": 5
}
